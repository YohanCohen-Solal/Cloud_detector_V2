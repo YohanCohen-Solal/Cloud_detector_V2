{
 "cells": [
  {
   "cell_type": "code",
   "execution_count": null,
   "metadata": {},
   "outputs": [],
   "source": [
    "import os\n",
    "import cv2\n",
    "import numpy as np\n",
    "from PIL import Image"
   ]
  },
  {
   "cell_type": "code",
   "execution_count": null,
   "metadata": {},
   "outputs": [],
   "source": [
    "IMAGE_PATH = \"C:/Users/victo/Desktop/Cours/Cloud_detector_V2/IA/saved_images\"\n",
    "PRED_PATH = \"C:/Users/victo/Desktop/Cours/Cloud_detector_V2/IA/preds\""
   ]
  },
  {
   "cell_type": "code",
   "execution_count": null,
   "metadata": {},
   "outputs": [],
   "source": [
    "files1 = os.listdir(IMAGE_PATH)\n",
    "files2 = os.listdir(PRED_PATH)"
   ]
  },
  {
   "cell_type": "code",
   "execution_count": null,
   "metadata": {},
   "outputs": [],
   "source": [
    "num_pixel_total = 0\n",
    "num_pred_correct = 0"
   ]
  },
  {
   "cell_type": "code",
   "execution_count": 16,
   "metadata": {},
   "outputs": [
    {
     "name": "stdout",
     "output_type": "stream",
     "text": [
      "4754988\n",
      "4257540\n"
     ]
    }
   ],
   "source": [
    "for i in range(len(files1)):\n",
    "    image = Image.open(os.path.join(IMAGE_PATH, files1[i]))\n",
    "    pred = Image.open(os.path.join(PRED_PATH, files2[i]))\n",
    "    \n",
    "    np_image = np.array(image)\n",
    "    np_pred = np.array(pred)\n",
    "\n",
    "    num_pixel_total += np.sum(np_image == 255)\n",
    "    num_pred_correct += np.sum((np_pred == 255) & (np_image == 255))\n",
    "\n",
    "print(num_pixel_total)\n",
    "print(num_pred_correct)\n"
   ]
  },
  {
   "cell_type": "code",
   "execution_count": 18,
   "metadata": {},
   "outputs": [
    {
     "name": "stdout",
     "output_type": "stream",
     "text": [
      "real Precision:  89.53839631141025\n"
     ]
    }
   ],
   "source": [
    "print(\"real Precision: \",(num_pred_correct/num_pixel_total)*100)"
   ]
  },
  {
   "cell_type": "code",
   "execution_count": null,
   "metadata": {},
   "outputs": [],
   "source": []
  }
 ],
 "metadata": {
  "kernelspec": {
   "display_name": "Python 3",
   "language": "python",
   "name": "python3"
  },
  "language_info": {
   "codemirror_mode": {
    "name": "ipython",
    "version": 3
   },
   "file_extension": ".py",
   "mimetype": "text/x-python",
   "name": "python",
   "nbconvert_exporter": "python",
   "pygments_lexer": "ipython3",
   "version": "3.9.13"
  },
  "orig_nbformat": 4,
  "vscode": {
   "interpreter": {
    "hash": "c7a676abbc58fb72a4139e964996bdbf10c701e0b1ca7f6ed9a8294b6eab108e"
   }
  }
 },
 "nbformat": 4,
 "nbformat_minor": 2
}
