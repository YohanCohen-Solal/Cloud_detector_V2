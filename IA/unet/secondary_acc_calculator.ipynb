{
 "cells": [
  {
   "cell_type": "code",
   "execution_count": null,
   "metadata": {},
   "outputs": [],
   "source": [
    "import os\n",
    "import cv2\n",
    "import numpy as np\n",
    "from PIL import Image"
   ]
  },
  {
   "cell_type": "code",
   "execution_count": null,
   "metadata": {},
   "outputs": [
    {
     "name": "stdout",
     "output_type": "stream",
     "text": [
      "c:\\Users\\victo\\Desktop\\Cours\\Cloud_detector_V2\\IA\\unet\n"
     ]
    }
   ],
   "source": [
    "print(os.getcwd())"
   ]
  },
  {
   "cell_type": "code",
   "execution_count": null,
   "metadata": {},
   "outputs": [],
   "source": [
    "IMAGE_PATH = \"../saved_images\"\n",
    "PRED_PATH = \"../preds\""
   ]
  },
  {
   "cell_type": "code",
   "execution_count": null,
   "metadata": {},
   "outputs": [],
   "source": [
    "files1 = os.listdir(IMAGE_PATH)\n",
    "files2 = os.listdir(PRED_PATH)"
   ]
  },
  {
   "cell_type": "code",
   "execution_count": null,
   "metadata": {},
   "outputs": [],
   "source": [
    "num_pixel_total = 0\n",
    "num_pred_correct = 0"
   ]
  },
  {
   "cell_type": "code",
   "execution_count": null,
   "metadata": {},
   "outputs": [
    {
     "name": "stdout",
     "output_type": "stream",
     "text": [
      "4530216\n",
      "4257540\n"
     ]
    }
   ],
   "source": [
    "for i in range(len(files1)):\n",
    "    image = Image.open(os.path.join(IMAGE_PATH, files1[i]))\n",
    "    pred = Image.open(os.path.join(PRED_PATH, files2[i]))\n",
    "    \n",
    "    np_image = np.array(image)\n",
    "    np_pred = np.array(pred)\n",
    "\n",
    "    num_pixel_total += np.sum(np_image == 255)\n",
    "    num_pred_correct += np.sum((np_pred == 255) & (np_image == 255))\n",
    "\n",
    "print(num_pixel_total)\n",
    "print(num_pred_correct)\n"
   ]
  },
  {
   "cell_type": "code",
   "execution_count": null,
   "metadata": {},
   "outputs": [
    {
     "name": "stdout",
     "output_type": "stream",
     "text": [
      "real Precision:  93.98094925275086\n"
     ]
    }
   ],
   "source": [
    "print(\"real Precision: \",(num_pred_correct/num_pixel_total)*100)"
   ]
  },
  {
   "cell_type": "code",
   "execution_count": null,
   "metadata": {},
   "outputs": [],
   "source": [
    "for i in range(len(files1)):\n",
    "    image = Image.open(os.path.join(IMAGE_PATH, files1[i]))\n",
    "    pred = Image.open(os.path.join(PRED_PATH, files2[i]))\n",
    "\n",
    "    width, height = image.size\n",
    "    \n",
    "    num_pixel_total += width * height\n",
    "\n",
    "    np_image = np.array(image)\n",
    "    np_pred = np.array(pred)\n",
    "\n",
    "    num_pred_correct += np.sum((np_pred == np_image))\n",
    "\n"
   ]
  },
  {
   "cell_type": "code",
   "execution_count": null,
   "metadata": {},
   "outputs": [
    {
     "name": "stdout",
     "output_type": "stream",
     "text": [
      "9267232\n",
      "18066198\n",
      "real Precision:  194.94707804876364\n"
     ]
    }
   ],
   "source": [
    "print(num_pixel_total)\n",
    "print(num_pred_correct)\n",
    "print(\"real Precision: \",(num_pred_correct/num_pixel_total)*100)"
   ]
  },
  {
   "cell_type": "code",
   "execution_count": null,
   "metadata": {},
   "outputs": [
    {
     "name": "stdout",
     "output_type": "stream",
     "text": [
      "Accuracy: 97.17%\n"
     ]
    }
   ],
   "source": [
    "files1 = [f for f in os.listdir(IMAGE_PATH) if f.endswith(\".png\")]\n",
    "files2 = [f for f in os.listdir(PRED_PATH) if f.endswith(\".png\")]\n"
   ]
  },
  {
   "cell_type": "code",
   "execution_count": null,
   "metadata": {},
   "outputs": [],
   "source": [
    "num_pixel_total = 0\n",
    "num_pred_correct = 0"
   ]
  },
  {
   "cell_type": "code",
   "execution_count": null,
   "metadata": {},
   "outputs": [],
   "source": [
    "for i in range(len(files1)):\n",
    "    image = Image.open(os.path.join(IMAGE_PATH, files1[i]))\n",
    "    pred = Image.open(os.path.join(PRED_PATH, files2[i]))\n",
    "\n",
    "    if image.size != pred.size:\n",
    "        raise ValueError(f\"Image size mismatch: {files1[i]} vs {files2[i]}\")\n",
    "\n",
    "    np_image = np.array(image)\n",
    "    np_pred = np.array(pred)\n",
    "\n",
    "    num_pixel_total += np_image.size\n",
    "    num_pred_correct += np.sum(np_pred == np_image)\n",
    "\n",
    "accuracy = 100.0 * num_pred_correct / num_pixel_total\n",
    "print(\"Accuracy: {:.2f}%\".format(accuracy))"
   ]
  }
 ],
 "metadata": {
  "kernelspec": {
   "display_name": "Python 3",
   "language": "python",
   "name": "python3"
  },
  "language_info": {
   "codemirror_mode": {
    "name": "ipython",
    "version": 3
   },
   "file_extension": ".py",
   "mimetype": "text/x-python",
   "name": "python",
   "nbconvert_exporter": "python",
   "pygments_lexer": "ipython3",
   "version": "3.9.13"
  },
  "orig_nbformat": 4,
  "vscode": {
   "interpreter": {
    "hash": "c7a676abbc58fb72a4139e964996bdbf10c701e0b1ca7f6ed9a8294b6eab108e"
   }
  }
 },
 "nbformat": 4,
 "nbformat_minor": 2
}
