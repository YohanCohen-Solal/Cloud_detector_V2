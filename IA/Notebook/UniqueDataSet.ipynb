{
 "cells": [
  {
   "cell_type": "code",
   "execution_count": 1,
   "metadata": {},
   "outputs": [],
   "source": [
    "import os\n",
    "import shutil\n",
    "\n",
    "classes = [\"Altocumulus\", \"Altostratus\", \"Cirrocumulus\", \"Cirrostratus\", \"Cirrus\", \"clearSky\", \"Cumulonimbus\", \"Cumulus\", \"Nimbostratus\", \"Stratocumulus\", \"Stratus\"]\n",
    "for classe in classes:\n",
    "    source_directory = \"C:/Users/maxba/OneDrive - ESME/Desktop/DataResizeSplit/DataResizeSplit/Test/\"+ classe # path to the source directory\n",
    "    destination_directory = \"C:/Users/maxba/OneDrive - ESME/Desktop/DataResizeSplit/DataResizeSplit/Train/\"+ classe # path to the destination directory\n",
    "\n",
    "    for file_name in os.listdir(source_directory):\n",
    "        if file_name.endswith(\".jpg\"): # change to the file type of your images\n",
    "            # construct the source and destination paths\n",
    "            source_path = os.path.join(source_directory, file_name)\n",
    "            destination_path = os.path.join(destination_directory, file_name)\n",
    "\n",
    "            # move the file to the destination directory\n",
    "            shutil.move(source_path, destination_path)"
   ]
  },
  {
   "cell_type": "code",
   "execution_count": null,
   "metadata": {},
   "outputs": [],
   "source": []
  }
 ],
 "metadata": {
  "kernelspec": {
   "display_name": "base",
   "language": "python",
   "name": "python3"
  },
  "language_info": {
   "codemirror_mode": {
    "name": "ipython",
    "version": 3
   },
   "file_extension": ".py",
   "mimetype": "text/x-python",
   "name": "python",
   "nbconvert_exporter": "python",
   "pygments_lexer": "ipython3",
   "version": "3.9.12"
  },
  "orig_nbformat": 4,
  "vscode": {
   "interpreter": {
    "hash": "9475284635d26067614a2f5c1768a08b1468dbbebaf0733e7f66e6cab11f2ea7"
   }
  }
 },
 "nbformat": 4,
 "nbformat_minor": 2
}
