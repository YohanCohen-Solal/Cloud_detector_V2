{
 "cells": [
  {
   "attachments": {},
   "cell_type": "markdown",
   "metadata": {},
   "source": [
    "# IMPORTS"
   ]
  },
  {
   "cell_type": "code",
   "execution_count": 2,
   "metadata": {},
   "outputs": [],
   "source": [
    "import numpy as np\n",
    "from scipy import signal\n",
    "from sklearn.linear_model import LinearRegression\n",
    "import cv2"
   ]
  },
  {
   "attachments": {},
   "cell_type": "markdown",
   "metadata": {},
   "source": [
    "# FRACTAL TRANSFORMATION"
   ]
  },
  {
   "cell_type": "code",
   "execution_count": 3,
   "metadata": {},
   "outputs": [],
   "source": [
    "def fractalTrans(img):\n",
    "    M, N = img.shape[:2]\n",
    "\n",
    "    if img.ndim == 3:\n",
    "        img = cv2.cvtColor(img, cv2.COLOR_BGR2GRAY)\n",
    "\n",
    "    img = img.astype(np.float64)\n",
    "    rmax = 7\n",
    "\n",
    "    B = {}\n",
    "    for r in range(2, rmax+1):\n",
    "        mask = signal.gaussian(r, r/2)\n",
    "        img = signal.convolve2d(img, mask, mode='same')\n",
    "        rc = lambda x: np.floor(((np.max(x) - np.min(x)) / r)) + 1\n",
    "        F = signal.correlate(img, np.ones((r, r)), mode='valid')\n",
    "        B[r] = np.log(F * (rmax**2 / (r**2)))\n",
    "\n",
    "    i = np.log(np.arange(2, rmax+1))\n",
    "    Nxx = np.dot(i, i) - (np.sum(i)**2) / (rmax-1)\n",
    "\n",
    "    FD = np.zeros((M, N))\n",
    "    for m in range(M):\n",
    "        for n in range(N):\n",
    "            fd = [B[7][m, n], B[6][m, n], B[5][m, n], B[4][m, n], B[3][m, n], B[2][m, n]]\n",
    "            Nxy = np.dot(i, fd) - (np.sum(i) * np.sum(fd)) / (rmax-1)\n",
    "            FD[m, n] = Nxy / Nxx\n",
    "\n",
    "    FD2 = np.maximum(0, FD)\n",
    "    FDB = (FD2 - np.min(FD2)) / (np.max(FD2) - np.min(FD2))\n",
    "\n",
    "    return FDB, FD"
   ]
  },
  {
   "attachments": {},
   "cell_type": "markdown",
   "metadata": {},
   "source": [
    "# MAPPING"
   ]
  },
  {
   "cell_type": "code",
   "execution_count": 4,
   "metadata": {},
   "outputs": [],
   "source": [
    "def getmapping(samples, mappingtype):    \n",
    "    table = np.arange(2**samples)\n",
    "    newMax = 0  # number of patterns in the resulting LBP code\n",
    "    index = 0\n",
    "\n",
    "    if mappingtype == 'u2':  # Uniform 2\n",
    "        newMax = samples * (samples-1) + 3\n",
    "        for i in range(2**samples):\n",
    "            j = ((i << 1) | 1) & (2**samples-1)  # rotate left\n",
    "            numt = np.sum(np.bitwise_xor(i, j) & (2**np.arange(samples)))  # number of 1->0 and 0->1 transitions in binary string x is equal to the number of 1-bits in XOR(x,Rotate left(x))\n",
    "            if numt <= 2:\n",
    "                table[i] = index\n",
    "                index += 1\n",
    "            else:\n",
    "                table[i] = newMax - 1\n",
    "\n",
    "    if mappingtype == 'ri':  # Rotation invariant\n",
    "        tmpMap = np.full((2**samples,), -1)\n",
    "        for i in range(2**samples):\n",
    "            rm = i\n",
    "            r = i\n",
    "            for j in range(1, samples):\n",
    "                r = ((r << 1) | 1) & (2**samples-1)  # rotate left\n",
    "                if r < rm:\n",
    "                    rm = r\n",
    "            if tmpMap[rm] < 0:\n",
    "                tmpMap[rm] = newMax\n",
    "                newMax += 1\n",
    "            table[i] = tmpMap[rm]\n",
    "\n",
    "    if mappingtype == 'riu2':  # Uniform & Rotation invariant\n",
    "        newMax = samples + 2\n",
    "        for i in range(2**samples):\n",
    "            j = ((i << 1) | 1) & (2**samples-1)  # rotate left\n",
    "            numt = np.sum(np.bitwise_xor(i, j) & (2**np.arange(samples)))\n",
    "            if numt <= 2:\n",
    "                table[i] = np.sum(i & (2**np.arange(samples)))\n",
    "            else:\n",
    "                table[i] = samples + 1\n",
    "\n",
    "    return {'table': table, 'samples': samples, 'num': newMax}"
   ]
  },
  {
   "attachments": {},
   "cell_type": "markdown",
   "metadata": {},
   "source": [
    "# LBP"
   ]
  },
  {
   "cell_type": "code",
   "execution_count": null,
   "metadata": {},
   "outputs": [],
   "source": [
    "def lbp(image, radius=1, neighbors=8, mapping=0, mode='h', frac=None):\n",
    "    d_image = np.double(image)\n",
    "    if radius == 1 and neighbors is None and mapping is None and mode is None:\n",
    "    spoints = np.array([[-1, -1], [-1, 0], [-1, 1], [0, -1], [0, 1], [1, -1], [1, 0], [1, 1]])\n",
    "    neighbors = 8\n",
    "    mapping = 0\n",
    "    mode = 'h'\n",
    "\n",
    "if radius is not None and neighbors is not None and mapping is None and mode is None:\n",
    "    spoints = np.zeros((neighbors, 2))\n",
    "    a = 2*np.pi/neighbors\n",
    "    for i in range(neighbors):\n",
    "        spoints[i][0] = -radius*np.sin((i-1)*a)\n",
    "        spoints[i][1] = radius*np.cos((i-1)*a)\n",
    "    mapping = 0\n",
    "    mode = 'h'\n",
    "\n",
    "if radius is not None and neighbors is not None and mapping is not None and mode is None:\n",
    "    spoints = np.zeros((neighbors, 2))\n",
    "    a = 2*np.pi/neighbors\n",
    "    for i in range(neighbors):\n",
    "        spoints[i][0] = -radius*np.sin((i-1)*a)\n",
    "        spoints[i][1] = radius*np.cos((i-1)*a)\n",
    "    mode = 'h'\n",
    "\n",
    "if spoints is not None and mapping is None and mode is None:\n",
    "    neighbors = spoints.shape[0]\n",
    "    mapping = 0\n",
    "    mode = 'h'\n",
    "\n",
    "if spoints is not None and mapping is not None and mode is None:\n",
    "    neighbors = spoints.shape[0]\n",
    "    mode = 'h'\n",
    "\n",
    "ysize, xsize = image.shape\n",
    "\n",
    "... "
   ]
  },
  {
   "attachments": {},
   "cell_type": "markdown",
   "metadata": {},
   "source": [
    "# FWLB"
   ]
  },
  {
   "cell_type": "code",
   "execution_count": null,
   "metadata": {},
   "outputs": [],
   "source": [
    "def FWLBP(path_image):\n",
    "    img = cv2.imread(path_image, cv2.IMREAD_GRAYSCALE)\n",
    "    \n",
    "    im = np.float32(img)\n",
    "    FRAC = fractalTrans(im)\n",
    "\n",
    "    Gray = np.double(img)\n",
    "    Gray = (Gray - np.mean(Gray)) / np.std(Gray) * 20 + 128\n",
    "\n",
    "    patternMappingriu2 = getmapping(8, 'x')\n",
    "\n",
    "    h11 = np.concatenate((lbpfrac(Gray, 1, 8, patternMappingriu2, 'nh', FRAC),\n",
    "                         lbpfrac(Gray, 2, 8, patternMappingriu2, 'nh', FRAC),\n",
    "                         lbpfrac(Gray, 3, 8, patternMappingriu2, 'nh', FRAC)))\n",
    "\n",
    "    h11 = h11 / np.sum(h11)\n",
    "    return h11"
   ]
  }
 ],
 "metadata": {
  "kernelspec": {
   "display_name": "base",
   "language": "python",
   "name": "python3"
  },
  "language_info": {
   "codemirror_mode": {
    "name": "ipython",
    "version": 3
   },
   "file_extension": ".py",
   "mimetype": "text/x-python",
   "name": "python",
   "nbconvert_exporter": "python",
   "pygments_lexer": "ipython3",
   "version": "3.9.12"
  },
  "orig_nbformat": 4,
  "vscode": {
   "interpreter": {
    "hash": "9475284635d26067614a2f5c1768a08b1468dbbebaf0733e7f66e6cab11f2ea7"
   }
  }
 },
 "nbformat": 4,
 "nbformat_minor": 2
}
