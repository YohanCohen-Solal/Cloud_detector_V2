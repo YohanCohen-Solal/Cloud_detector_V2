{
 "cells": [
  {
   "attachments": {},
   "cell_type": "markdown",
   "metadata": {},
   "source": [
    "Tourner des images"
   ]
  },
  {
   "cell_type": "code",
   "execution_count": null,
   "metadata": {},
   "outputs": [],
   "source": [
    "#Rotation de 180°\n",
    "import os\n",
    "import cv2\n",
    "import numpy as np\n",
    "\n",
    "def rotate_image(image, angle):\n",
    "    rows, cols = image.shape[0], image.shape[1]\n",
    "    M = cv2.getRotationMatrix2D((cols/2,rows/2),angle,1)\n",
    "    return cv2.warpAffine(image, M, (cols,rows))\n",
    "\n",
    "def rotate_and_save_images(folder_path, output_folder, angle):\n",
    "    if not os.path.exists(output_folder):\n",
    "        os.makedirs(output_folder)\n",
    "        \n",
    "    \n",
    "    for filename in os.listdir(folder_path):\n",
    "        image = cv2.imread(os.path.join(folder_path, filename))\n",
    "        rotated_image = rotate_image(image, angle)\n",
    "        cv2.imwrite(os.path.join(output_folder, \"rotated_\" + filename), rotated_image)\n",
    "\n",
    "\n",
    "rotate_and_save_images(\"DataClouds/DataNormal/Altocumulus\", \"DataClouds/DataRot180/AltocumulusRot180\", 180)\n",
    "rotate_and_save_images(\"DataClouds/DataNormal/Altostratus\", \"DataClouds/DataRot180/AltostratusRot180\", 180)\n",
    "rotate_and_save_images(\"DataClouds/DataNormal/Cirrocumulus\", \"DataClouds/DataRot180/CirrocumulusRot180\", 180)\n",
    "rotate_and_save_images(\"DataClouds/DataNormal/Cirrostratus\", \"DataClouds/DataRot180/CirrostratusRot180\", 180)\n",
    "rotate_and_save_images(\"DataClouds/DataNormal/Cirrus\", \"DataClouds/DataRot180/CirrusRot180\", 180)\n",
    "rotate_and_save_images(\"DataClouds/DataNormal/clearSky\", \"DataClouds/DataRot180/clearSkyRot180\", 180)\n",
    "rotate_and_save_images(\"DataClouds/DataNormal/Cumulonimbus\", \"DataClouds/DataRot180/CumulonimbusRot180\", 180)\n",
    "rotate_and_save_images(\"DataClouds/DataNormal/Cumulus\", \"DataClouds/DataRot180/CumulusRot180\", 180)\n",
    "rotate_and_save_images(\"DataClouds/DataNormal/Nimbostratus\", \"DataClouds/DataRot180/NimbostratusRot180\", 180)\n",
    "rotate_and_save_images(\"DataClouds/DataNormal/Stratocumulus\", \"DataClouds/DataRot180/StratocumulusRot180\", 180)\n",
    "rotate_and_save_images(\"DataClouds/DataNormal/Stratus\", \"DataClouds/DataRot180/StratusRot180\", 180)"
   ]
  },
  {
   "attachments": {},
   "cell_type": "markdown",
   "metadata": {},
   "source": [
    "Translation vers la gauche"
   ]
  },
  {
   "cell_type": "code",
   "execution_count": null,
   "metadata": {},
   "outputs": [],
   "source": [
    "import cv2\n",
    "import numpy as np\n",
    "import os\n",
    "\n",
    "def translate_image_left(image, x_offset):\n",
    "    rows, cols = image.shape[:2]\n",
    "    M = np.float32([[1, 0, -x_offset], [0, 1, 0]])\n",
    "    return cv2.warpAffine(image, M, (cols, rows))\n",
    "\n",
    "def translate_images_left_in_folder(src_folder, dst_folder, x_offset):\n",
    "    for filename in os.listdir(src_folder):\n",
    "        src_path = os.path.join(src_folder, filename)\n",
    "        image = cv2.imread(src_path)\n",
    "        translated_image = translate_image_left(image, x_offset)\n",
    "        dst_path = os.path.join(dst_folder, 'translated_left_' + filename)\n",
    "        cv2.imwrite(dst_path, translated_image)\n",
    "\n",
    "\n",
    "x_offset = 100\n",
    "translate_images_left_in_folder('DataClouds/Total_data/Altocumulus', 'DataClouds/Total_data_tr_left/Altocumulus', 100)\n",
    "translate_images_left_in_folder('DataClouds/Total_data/Altostratus', 'DataClouds/Total_data_tr_left/Altostratus', 100)\n",
    "translate_images_left_in_folder('DataClouds/Total_data/Cirrocumulus', 'DataClouds/Total_data_tr_left/Cirrocumulus', 100)\n",
    "translate_images_left_in_folder('DataClouds/Total_data/Cirrostratus', 'DataClouds/Total_data_tr_left/Cirrostratus', 100)\n",
    "translate_images_left_in_folder('DataClouds/Total_data/Cirrus', 'DataClouds/Total_data_tr_left/Cirrus', 100)\n",
    "translate_images_left_in_folder('DataClouds/Total_data/clearSky', 'DataClouds/Total_data_tr_left/clearSky', 100)\n",
    "translate_images_left_in_folder('DataClouds/Total_data/Cumulonimbus', 'DataClouds/Total_data_tr_left/Cumulonimbus', 100)\n",
    "translate_images_left_in_folder('DataClouds/Total_data/Cumulus', 'DataClouds/Total_data_tr_left/Cumulus', 100)\n",
    "translate_images_left_in_folder('DataClouds/Total_data/Nimbostratus', 'DataClouds/Total_data_tr_left/Nimbostratus', 100)\n",
    "translate_images_left_in_folder('DataClouds/Total_data/Stratocumulus', 'DataClouds/Total_data_tr_left/Stratocumulus', 100)\n",
    "translate_images_left_in_folder('DataClouds/Total_data/Stratus', 'DataClouds/Total_data_tr_left/Stratus', 100)"
   ]
  },
  {
   "attachments": {},
   "cell_type": "markdown",
   "metadata": {},
   "source": [
    "Translation vers la droite"
   ]
  },
  {
   "cell_type": "code",
   "execution_count": null,
   "metadata": {},
   "outputs": [],
   "source": [
    "import cv2\n",
    "import numpy as np\n",
    "\n",
    "def translate_image_right(image, x_offset):\n",
    "    rows, cols = image.shape[:2]\n",
    "    M = np.float32([[1, 0, x_offset], [0, 1, 0]])\n",
    "    return cv2.warpAffine(image, M, (cols, rows))\n",
    "\n",
    "def translate_images_right_in_folder(src_folder, dst_folder, x_offset):\n",
    "    for filename in os.listdir(src_folder):\n",
    "        src_path = os.path.join(src_folder, filename)\n",
    "        image = cv2.imread(src_path)\n",
    "        translated_image = translate_image_right(image, x_offset)\n",
    "        dst_path = os.path.join(dst_folder, 'translated_right_' + filename)\n",
    "        cv2.imwrite(dst_path, translated_image)\n",
    "\n",
    "\n",
    "translate_images_right_in_folder('DataClouds/Total_data/Altocumulus', 'DataClouds/Total_data_tr_right/Altocumulus', 100)\n",
    "translate_images_right_in_folder('DataClouds/Total_data/Altostratus', 'DataClouds/Total_data_tr_right/Altostratus', 100)\n",
    "translate_images_right_in_folder('DataClouds/Total_data/Cirrocumulus', 'DataClouds/Total_data_tr_right/Cirrocumulus', 100)\n",
    "translate_images_right_in_folder('DataClouds/Total_data/Cirrostratus', 'DataClouds/Total_data_tr_right/Cirrostratus', 100)\n",
    "translate_images_right_in_folder('DataClouds/Total_data/Cirrus', 'DataClouds/Total_data_tr_right/Cirrus', 100)\n",
    "translate_images_right_in_folder('DataClouds/Total_data/clearSky', 'DataClouds/Total_data_tr_right/clearSky', 100)\n",
    "translate_images_right_in_folder('DataClouds/Total_data/Cumulonimbus', 'DataClouds/Total_data_tr_right/Cumulonimbus', 100)\n",
    "translate_images_right_in_folder('DataClouds/Total_data/Cumulus', 'DataClouds/Total_data_tr_right/Cumulus', 100)\n",
    "translate_images_right_in_folder('DataClouds/Total_data/Nimbostratus', 'DataClouds/Total_data_tr_right/Nimbostratus', 100)\n",
    "translate_images_right_in_folder('DataClouds/Total_data/Stratocumulus', 'DataClouds/Total_data_tr_right/Stratocumulus', 100)\n",
    "translate_images_right_in_folder('DataClouds/Total_data/Stratus', 'DataClouds/Total_data_tr_right/Stratus', 100)\n"
   ]
  },
  {
   "attachments": {},
   "cell_type": "markdown",
   "metadata": {},
   "source": [
    "Suppression des images qui apparaissent plusieurs fois dans un dossier"
   ]
  },
  {
   "cell_type": "code",
   "execution_count": null,
   "metadata": {},
   "outputs": [],
   "source": [
    "import os\n",
    "import hashlib\n",
    "\n",
    "def find_duplicates(path):\n",
    "    files_hash = {}\n",
    "    duplicates = []\n",
    "    \n",
    "    for root, dirs, files in os.walk(path):\n",
    "        for file in files:\n",
    "            file_path = os.path.join(root, file)\n",
    "            with open(file_path, 'rb') as f:\n",
    "                file_hash = hashlib.md5(f.read()).hexdigest()\n",
    "                if file_hash in files_hash:\n",
    "                    duplicates.append(file_path)\n",
    "                    \n",
    "                else:\n",
    "                    files_hash[file_hash] = file_path\n",
    "\n",
    "    return duplicates\n",
    "\n",
    "def delete_duplicates(duplicates):\n",
    "    for file_path in duplicates:\n",
    "        os.remove(file_path)\n",
    "\n",
    "duplicates = find_duplicates('Données/datas/Stratus')\n",
    "delete_duplicates(duplicates)\n"
   ]
  }
 ],
 "metadata": {
  "language_info": {
   "name": "python"
  },
  "orig_nbformat": 4
 },
 "nbformat": 4,
 "nbformat_minor": 2
}
