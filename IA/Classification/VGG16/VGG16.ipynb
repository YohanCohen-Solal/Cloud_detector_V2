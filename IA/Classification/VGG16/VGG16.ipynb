{
 "cells": [
  {
   "attachments": {},
   "cell_type": "markdown",
   "id": "ca64d3e8",
   "metadata": {},
   "source": [
    "Chargement des librairies"
   ]
  },
  {
   "cell_type": "code",
   "execution_count": null,
   "id": "c7773433",
   "metadata": {},
   "outputs": [],
   "source": [
    "import numpy as np\n",
    "import keras\n",
    "from keras.applications import VGG16\n",
    "from keras.models import Model\n",
    "from keras.layers import Dense, Dropout, Flatten\n",
    "from keras.optimizers import SGD\n",
    "from keras.preprocessing.image import ImageDataGenerator\n",
    "from keras.callbacks import EarlyStopping, ModelCheckpoint\n",
    "import matplotlib.pyplot as plt"
   ]
  },
  {
   "attachments": {},
   "cell_type": "markdown",
   "id": "f1b886e6",
   "metadata": {},
   "source": [
    "Chargement des données"
   ]
  },
  {
   "cell_type": "code",
   "execution_count": null,
   "id": "912de083",
   "metadata": {},
   "outputs": [],
   "source": [
    "train_dir = 'chemin_vers_les_images_dentrainement'\n",
    "val_dir = 'chemin_vers_les_images_de_validation'\n",
    "\n",
    "train_datagen = ImageDataGenerator(rescale=1./255)\n",
    "val_datagen = ImageDataGenerator(rescale=1./255)\n",
    "\n",
    "train_generator = train_datagen.flow_from_directory(train_dir, target_size=(224,224), batch_size=32, class_mode='categorical')\n",
    "val_generator = val_datagen.flow_from_directory(val_dir, target_size=(224,224), batch_size=32, class_mode='categorical')"
   ]
  },
  {
   "attachments": {},
   "cell_type": "markdown",
   "id": "3347d938",
   "metadata": {},
   "source": [
    "Chargement du modèle"
   ]
  },
  {
   "cell_type": "code",
   "execution_count": null,
   "id": "b810dfc3",
   "metadata": {},
   "outputs": [],
   "source": [
    "# Chargement de VGG16 pré-entraîné\n",
    "vgg16 = VGG16(weights='imagenet', include_top=False, input_shape=(224, 224, 3))\n",
    "\n",
    "# Congélation des couches de VGG16\n",
    "for layer in vgg16.layers:\n",
    "    layer.trainable = False\n",
    "\n",
    "# Ajout des couches personnalisées pour la classification\n",
    "x = vgg16.output\n",
    "x = Flatten()(x)\n",
    "x = Dense(512, activation='relu')(x)\n",
    "x = Dropout(0.5)(x)\n",
    "predictions = Dense(11, activation='softmax')(x)\n",
    "\n",
    "# Compilation du modèle\n",
    "model = Model(inputs=vgg16.input, outputs=predictions)\n",
    "model.compile(optimizer=SGD(lr=0.0001, momentum=0.9), loss='categorical_crossentropy', metrics=['accuracy'])"
   ]
  },
  {
   "attachments": {},
   "cell_type": "markdown",
   "id": "8cb4feb2",
   "metadata": {},
   "source": [
    "Entraînement"
   ]
  },
  {
   "cell_type": "code",
   "execution_count": null,
   "id": "a04d1e24",
   "metadata": {},
   "outputs": [],
   "source": [
    "# Ajout des callbacks EarlyStopping et ModelCheckpoint\n",
    "early_stopping = EarlyStopping(monitor='val_acc', patience=10, mode='max')\n",
    "checkpoint = ModelCheckpoint('vgg16_best_model.h5', monitor='val_acc', verbose=1, save_best_only=True, mode='max')\n",
    "\n",
    "# Entraînement du modèle\n",
    "history = model.fit(train_generator, steps_per_epoch=train_generator.samples//32, epochs=100, validation_data=val_generator, validation_steps=val_generator.samples//32, callbacks=[early_stopping, checkpoint])"
   ]
  },
  {
   "attachments": {},
   "cell_type": "markdown",
   "id": "c794b043",
   "metadata": {},
   "source": [
    "Tracé des courbes"
   ]
  },
  {
   "cell_type": "code",
   "execution_count": null,
   "id": "9b293cbb",
   "metadata": {},
   "outputs": [],
   "source": [
    "# Tracé de l'accuracy et de la loss en fonction des epochs\n",
    "plt.plot(history.history['val_accuracy'])\n",
    "plt.title('Model accuracy')\n",
    "plt.ylabel('Accuracy')\n",
    "plt.xlabel('Epoch')\n",
    "plt.legend(['Train', 'Validation'], loc='upper left')\n",
    "plt.savefig('accuracy_ vgg16.png')\n",
    "plt.show()\n",
    "\n",
    "plt.plot(history.history['loss'])\n",
    "plt.plot(history.history['val_loss'])\n",
    "plt.title('Model loss')\n",
    "plt.ylabel('Loss')\n",
    "plt.xlabel('Epoch')\n",
    "plt.legend(['Train', 'Validation'], loc='upper left')\n",
    "plt.savefig('loss_vgg16.png')\n",
    "plt.show()"
   ]
  }
 ],
 "metadata": {
  "kernelspec": {
   "display_name": "Python 3 (ipykernel)",
   "language": "python",
   "name": "python3"
  },
  "language_info": {
   "codemirror_mode": {
    "name": "ipython",
    "version": 3
   },
   "file_extension": ".py",
   "mimetype": "text/x-python",
   "name": "python",
   "nbconvert_exporter": "python",
   "pygments_lexer": "ipython3",
   "version": "3.9.13"
  },
  "vscode": {
   "interpreter": {
    "hash": "f9f85f796d01129d0dd105a088854619f454435301f6ffec2fea96ecbd9be4ac"
   }
  }
 },
 "nbformat": 4,
 "nbformat_minor": 5
}
